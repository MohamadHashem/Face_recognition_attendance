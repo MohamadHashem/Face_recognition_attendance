{
 "cells": [
  {
   "cell_type": "markdown",
   "metadata": {},
   "source": [
    "# run the bellow cell to import packages used for this project"
   ]
  },
  {
   "cell_type": "code",
   "execution_count": 1,
   "metadata": {},
   "outputs": [
    {
     "name": "stdout",
     "output_type": "stream",
     "text": [
      "package imported\n"
     ]
    }
   ],
   "source": [
    "from __future__ import unicode_literals\n",
    "import cv2\n",
    "import numpy as np\n",
    "import face_recognition\n",
    "from datetime import datetime\n",
    "import os\n",
    "from typing import List\n",
    "import pandas as pd\n",
    "print('package imported')\n",
    "\n"
   ]
  },
  {
   "cell_type": "markdown",
   "metadata": {},
   "source": [
    "# Running bellow cell actions:\n",
    "### 1- read the images in ImagesAtt file\n",
    "### 2-put theire in an array\n",
    "### 3-image name should be the name of student\n",
    "### 4-after sorting the name in array we split the image type and name and sorted in array "
   ]
  },
  {
   "cell_type": "code",
   "execution_count": 2,
   "metadata": {},
   "outputs": [
    {
     "name": "stdout",
     "output_type": "stream",
     "text": [
      "['hassan khalil.jpg', 'mohamad hashem.jpg', 'steve jobs.jpg']\n",
      "['hassan khalil', 'mohamad hashem', 'steve jobs']\n"
     ]
    }
   ],
   "source": [
    "path='ImagesAtt'\n",
    "images=[]\n",
    "classsNames=[]\n",
    "myList=os.listdir(path)\n",
    "print(myList)\n",
    "for cl in myList:\n",
    "      curI=cv2.imread(f'{path}/{cl}')\n",
    "      images.append(curI)\n",
    "      classsNames.append(os.path.splitext(cl)[0])\n",
    "print(classsNames)"
   ]
  },
  {
   "cell_type": "markdown",
   "metadata": {},
   "source": [
    "# Excel File Name :\n",
    "### Run the cell bellow to put the csv file name\n",
    "### Write the name in the field and press **Enter**"
   ]
  },
  {
   "cell_type": "code",
   "execution_count": 3,
   "metadata": {},
   "outputs": [
    {
     "name": "stdout",
     "output_type": "stream",
     "text": [
      "Enter filename : a\n"
     ]
    }
   ],
   "source": [
    "filename = input(\"Enter filename : \") "
   ]
  },
  {
   "cell_type": "markdown",
   "metadata": {},
   "source": [
    "#### Get the Attendance file path and read it \n",
    "#### Save to the new CSV file"
   ]
  },
  {
   "cell_type": "code",
   "execution_count": 5,
   "metadata": {},
   "outputs": [],
   "source": [
    "path1 ='Attendance.csv'\n",
    "\n",
    "df = pd.read_csv(path1,header=None)\n",
    " # save to new csv file\n",
    "p1=df.to_csv(filename+'.csv', index=False)\n"
   ]
  },
  {
   "cell_type": "code",
   "execution_count": 6,
   "metadata": {},
   "outputs": [
    {
     "name": "stdout",
     "output_type": "stream",
     "text": [
      "3\n"
     ]
    }
   ],
   "source": [
    "def findEncodings(images):\n",
    "      encodeList=[]\n",
    "      for img in images:\n",
    "            img=cv2.cvtColor(img,cv2.COLOR_BGR2RGB)\n",
    "            encode=face_recognition.face_encodings(img)[0]\n",
    "            encodeList.append(encode)\n",
    "      return encodeList\n",
    "def markAtt(Name):\n",
    "      with open('Attendance.csv','r+')as att:\n",
    "            myDataList=att.readlines()\n",
    "            nameList =[]\n",
    "            for line in myDataList:\n",
    "                  entry =line.split(',')\n",
    "                  nameList.append(entry[0])\n",
    "            if Name not in nameList:\n",
    "                  now=datetime.now()\n",
    "                  dtString=now.strftime('%I:%M:%P')\n",
    "                  att.writelines(f'\\n{Name},{dtString}')\n",
    "\n",
    "encodeListKnown = findEncodings(images)\n",
    "print(len(encodeListKnown))\n",
    "\n"
   ]
  },
  {
   "cell_type": "code",
   "execution_count": null,
   "metadata": {},
   "outputs": [],
   "source": [
    "cap=cv2.VideoCapture(0)\n",
    "\n",
    "while True:\n",
    "      success,img=cap.read()\n",
    "      img1=cv2.resize(img,(0,0),None,0.25,0.25)\n",
    "      img1=cv2.cvtColor(img1,cv2.COLOR_BGR2RGB)\n",
    "      facesCurFrame=face_recognition.face_locations(img1)\n",
    "      encodesCurFrame=face_recognition.face_encodings(img1,facesCurFrame)\n",
    "      \n",
    "      for encodeFace,faceLoc in zip(encodesCurFrame,facesCurFrame):\n",
    "            matches=face_recognition.compare_faces(encodeListKnown,encodeFace)\n",
    "            faceDist=face_recognition.face_distance(encodeListKnown,encodeFace)\n",
    "#             print(faceDist)\n",
    "            matchIndex=np.argmin(faceDist)\n",
    "\n",
    "            if matches[matchIndex]:\n",
    "                  Name=classsNames[matchIndex].upper()\n",
    "#                   print(Name)\n",
    "                  y1,x2,y2,x1=faceLoc\n",
    "                  y1,x2,y2,x1=y1*4,x2*4,y2*4,x1*4\n",
    "                  cv2.rectangle(img,(x1,y1),(x2,y2),(0,255,0),2)\n",
    "                  cv2.rectangle(img,(x1,y2-35),(x2,y2),(0,255,0),cv2.FILLED)\n",
    "                  cv2.putText(img,Name,(x1+6,y2-6),cv2.FONT_HERSHEY_COMPLEX,1,(255,255,255),2)\n",
    "                  markAtt(Name)\n",
    "\n",
    "      cv2.imshow('webcam',img)\n",
    "      cv2.waitKey(1)\n"
   ]
  },
  {
   "cell_type": "code",
   "execution_count": null,
   "metadata": {},
   "outputs": [],
   "source": [
    "f = open(\"Attendance.csv\", \"w\")\n",
    "f.truncate()\n",
    "f.close()"
   ]
  },
  {
   "cell_type": "code",
   "execution_count": null,
   "metadata": {},
   "outputs": [],
   "source": [
    "\n"
   ]
  }
 ],
 "metadata": {
  "kernelspec": {
   "display_name": "Python 3",
   "language": "python",
   "name": "python3"
  },
  "language_info": {
   "codemirror_mode": {
    "name": "ipython",
    "version": 3
   },
   "file_extension": ".py",
   "mimetype": "text/x-python",
   "name": "python",
   "nbconvert_exporter": "python",
   "pygments_lexer": "ipython3",
   "version": "3.7.6"
  }
 },
 "nbformat": 4,
 "nbformat_minor": 4
}
